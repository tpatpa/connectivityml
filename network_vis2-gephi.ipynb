{
 "cells": [
  {
   "cell_type": "code",
   "execution_count": 1,
   "id": "ce32dc94-5136-4198-b4d3-fddbd0dcb14b",
   "metadata": {},
   "outputs": [],
   "source": [
    "import numpy as np\n",
    "import pandas as pd\n",
    "import matplotlib as plt\n",
    "\n",
    "nodelist = (range(1,16))\n",
    "countlist = list()\n",
    "node1list = list()\n",
    "node2list = list()\n",
    "netmatid = list()\n",
    "counter = 0\n",
    "for i in range(0,15):\n",
    "    node1 = nodelist[i]\n",
    "    for j in range(0,15):\n",
    "        #print(i,j)\n",
    "        node2 = nodelist[j]\n",
    "        counter = counter+1\n",
    "        if node1!=node2:\n",
    "            if (node2, node1) not in countlist:\n",
    "                countlist.append((node1, node2))\n",
    "                node1list.append(node1)\n",
    "                node2list.append(node2)\n",
    "                netmatid.append(counter)\n",
    "                #edge_df[i]['Node1'] = node1\n",
    "                #edge_df[i]['Node2'] = node2\n",
    "\n",
    "edge_df = pd.DataFrame(columns = ['netmat_col','Node1', 'Node2', 'Weight'])\n",
    "edge_df['Node1'] = node1list\n",
    "edge_df['Node2'] = node2list\n",
    "edge_df['netmat_col'] = netmatid"
   ]
  },
  {
   "cell_type": "code",
   "execution_count": 34,
   "id": "8460e539-8466-4b23-bcb6-28a43ca9fb12",
   "metadata": {},
   "outputs": [
    {
     "data": {
      "text/html": [
       "<div>\n",
       "<style scoped>\n",
       "    .dataframe tbody tr th:only-of-type {\n",
       "        vertical-align: middle;\n",
       "    }\n",
       "\n",
       "    .dataframe tbody tr th {\n",
       "        vertical-align: top;\n",
       "    }\n",
       "\n",
       "    .dataframe thead th {\n",
       "        text-align: right;\n",
       "    }\n",
       "</style>\n",
       "<table border=\"1\" class=\"dataframe\">\n",
       "  <thead>\n",
       "    <tr style=\"text-align: right;\">\n",
       "      <th></th>\n",
       "      <th>netmat_col</th>\n",
       "      <th>Node1</th>\n",
       "      <th>Node2</th>\n",
       "      <th>Weight</th>\n",
       "    </tr>\n",
       "  </thead>\n",
       "  <tbody>\n",
       "    <tr>\n",
       "      <th>0</th>\n",
       "      <td>2</td>\n",
       "      <td>1</td>\n",
       "      <td>2</td>\n",
       "      <td>NaN</td>\n",
       "    </tr>\n",
       "    <tr>\n",
       "      <th>1</th>\n",
       "      <td>3</td>\n",
       "      <td>1</td>\n",
       "      <td>3</td>\n",
       "      <td>NaN</td>\n",
       "    </tr>\n",
       "    <tr>\n",
       "      <th>2</th>\n",
       "      <td>4</td>\n",
       "      <td>1</td>\n",
       "      <td>4</td>\n",
       "      <td>NaN</td>\n",
       "    </tr>\n",
       "    <tr>\n",
       "      <th>3</th>\n",
       "      <td>5</td>\n",
       "      <td>1</td>\n",
       "      <td>5</td>\n",
       "      <td>NaN</td>\n",
       "    </tr>\n",
       "    <tr>\n",
       "      <th>4</th>\n",
       "      <td>6</td>\n",
       "      <td>1</td>\n",
       "      <td>6</td>\n",
       "      <td>NaN</td>\n",
       "    </tr>\n",
       "    <tr>\n",
       "      <th>...</th>\n",
       "      <td>...</td>\n",
       "      <td>...</td>\n",
       "      <td>...</td>\n",
       "      <td>...</td>\n",
       "    </tr>\n",
       "    <tr>\n",
       "      <th>100</th>\n",
       "      <td>179</td>\n",
       "      <td>12</td>\n",
       "      <td>14</td>\n",
       "      <td>NaN</td>\n",
       "    </tr>\n",
       "    <tr>\n",
       "      <th>101</th>\n",
       "      <td>180</td>\n",
       "      <td>12</td>\n",
       "      <td>15</td>\n",
       "      <td>NaN</td>\n",
       "    </tr>\n",
       "    <tr>\n",
       "      <th>102</th>\n",
       "      <td>194</td>\n",
       "      <td>13</td>\n",
       "      <td>14</td>\n",
       "      <td>NaN</td>\n",
       "    </tr>\n",
       "    <tr>\n",
       "      <th>103</th>\n",
       "      <td>195</td>\n",
       "      <td>13</td>\n",
       "      <td>15</td>\n",
       "      <td>NaN</td>\n",
       "    </tr>\n",
       "    <tr>\n",
       "      <th>104</th>\n",
       "      <td>210</td>\n",
       "      <td>14</td>\n",
       "      <td>15</td>\n",
       "      <td>NaN</td>\n",
       "    </tr>\n",
       "  </tbody>\n",
       "</table>\n",
       "<p>105 rows × 4 columns</p>\n",
       "</div>"
      ],
      "text/plain": [
       "     netmat_col  Node1  Node2 Weight\n",
       "0             2      1      2    NaN\n",
       "1             3      1      3    NaN\n",
       "2             4      1      4    NaN\n",
       "3             5      1      5    NaN\n",
       "4             6      1      6    NaN\n",
       "..          ...    ...    ...    ...\n",
       "100         179     12     14    NaN\n",
       "101         180     12     15    NaN\n",
       "102         194     13     14    NaN\n",
       "103         195     13     15    NaN\n",
       "104         210     14     15    NaN\n",
       "\n",
       "[105 rows x 4 columns]"
      ]
     },
     "execution_count": 34,
     "metadata": {},
     "output_type": "execute_result"
    }
   ],
   "source": [
    "edge_df"
   ]
  },
  {
   "cell_type": "markdown",
   "id": "2953f7b0-f6fc-493e-b51e-1957e8caca76",
   "metadata": {},
   "source": [
    "## Visualization using gephi\n",
    "\n",
    "See more about Gephi [here](https://gephi.org/). The following primarily follows [this instruction](https://towardsdatascience.com/from-csv-to-github-pages-in-5-steps-publishing-an-interactive-social-network-of-the-marvel-7b8374bf44fb). There is a tutorial about using the `GephiStreamer` python package [here](https://pypi.org/project/GephiStreamer/), but that has to be run with Graph streaming plugin enabled, although there is an [instruction](https://tbgraph.wordpress.com/2017/04/01/neo4j-to-gephi/) it's not straightforward to set this up in NeuroHackademy Jupyterhub."
   ]
  },
  {
   "cell_type": "code",
   "execution_count": 6,
   "id": "fbeed303-384a-4e90-9d0a-d6e962616d33",
   "metadata": {},
   "outputs": [],
   "source": [
    "import networkx as nx"
   ]
  },
  {
   "cell_type": "code",
   "execution_count": 7,
   "id": "06806f23-3d5c-46c2-aeef-8439b478e62b",
   "metadata": {},
   "outputs": [],
   "source": [
    "G=nx.from_pandas_edgelist(edge_df, 'Node1', 'Node2')"
   ]
  },
  {
   "cell_type": "code",
   "execution_count": 9,
   "id": "b7648533-742a-41fd-9963-850b94b30141",
   "metadata": {},
   "outputs": [
    {
     "name": "stdout",
     "output_type": "stream",
     "text": [
      "Nodes =  15  Edges =  105\n"
     ]
    }
   ],
   "source": [
    "G_nodes = G.number_of_nodes()\n",
    "G_edges = G.number_of_edges()\n",
    "print(\"Nodes = \", G_nodes, \" Edges = \", G_edges)"
   ]
  },
  {
   "cell_type": "code",
   "execution_count": 11,
   "id": "1eca01be-a31d-4cbe-ab41-491867e37d67",
   "metadata": {},
   "outputs": [],
   "source": [
    "nx.write_gexf(G, \"/home/jovyan/Hackathon/code/connectivityml/gephi-test1.gexf\")"
   ]
  },
  {
   "cell_type": "markdown",
   "id": "12ee89a8-9712-46fe-aee6-b5bc888abb0d",
   "metadata": {},
   "source": [
    "![image.png](gephi-test1.png)"
   ]
  },
  {
   "cell_type": "code",
   "execution_count": 31,
   "id": "11b53ae0-4bf8-4d9d-99f0-a60c98ed3035",
   "metadata": {},
   "outputs": [],
   "source": [
    "import csv\n",
    "from tqdm import tqdm\n",
    "import networkx as nx \n",
    "\n",
    "G = nx.Graph()\n",
    "\n",
    "G.add_edge(\"a\", \"b\", weight=0.6)\n",
    "G.add_edge(\"a\", \"c\", weight=0.2)\n",
    "G.add_edge(\"c\", \"d\", weight=0.1)\n",
    "G.add_edge(\"c\", \"e\", weight=0.7)\n",
    "G.add_edge(\"c\", \"f\", weight=0.9)\n",
    "G.add_edge(\"a\", \"d\", weight=0.3)\n",
    "\n",
    "# elarge = [(u, v) for (u, v, d) in G.edges(data=True) if d[\"weight\"] > 0.5]\n",
    "# esmall = [(u, v) for (u, v, d) in G.edges(data=True) if d[\"weight\"] <= 0.5]"
   ]
  },
  {
   "cell_type": "code",
   "execution_count": 33,
   "id": "252e0f80-286d-4927-ab27-f1403cd7697c",
   "metadata": {},
   "outputs": [
    {
     "data": {
      "text/plain": [
       "{'weight': 0.6}"
      ]
     },
     "execution_count": 33,
     "metadata": {},
     "output_type": "execute_result"
    }
   ],
   "source": [
    "G_nodes = G.number_of_nodes()\n",
    "G_edges = G.number_of_edges()\n",
    "# print(\"Nodes = \", G_nodes, \" Edges = \", G_edges)\n",
    "# G.get_edge_data(\"a\", \"b\")"
   ]
  },
  {
   "cell_type": "code",
   "execution_count": 26,
   "id": "4dadb2bb-760a-4c98-98a8-beb5f4a0cfdb",
   "metadata": {},
   "outputs": [],
   "source": [
    "nx.write_gexf(G, \"/home/jovyan/Hackathon/code/connectivityml/gephi-test2.gexf\")"
   ]
  },
  {
   "cell_type": "code",
   "execution_count": 18,
   "id": "29fabe95-2962-47ae-aa9b-aba0228b3272",
   "metadata": {},
   "outputs": [
    {
     "data": {
      "text/plain": [
       "1"
      ]
     },
     "execution_count": 18,
     "metadata": {},
     "output_type": "execute_result"
    }
   ],
   "source": []
  }
 ],
 "metadata": {
  "kernelspec": {
   "display_name": "Python 3",
   "language": "python",
   "name": "python3"
  },
  "language_info": {
   "codemirror_mode": {
    "name": "ipython",
    "version": 3
   },
   "file_extension": ".py",
   "mimetype": "text/x-python",
   "name": "python",
   "nbconvert_exporter": "python",
   "pygments_lexer": "ipython3",
   "version": "3.8.10"
  }
 },
 "nbformat": 4,
 "nbformat_minor": 5
}
