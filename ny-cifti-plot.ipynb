{
 "cells": [
  {
   "cell_type": "code",
   "execution_count": 19,
   "id": "2549b04e-7ed2-4328-bae9-17ae3521b38e",
   "metadata": {},
   "outputs": [],
   "source": [
    "import neuropythy as ny\n",
    "import nibabel as nib\n",
    "import numpy as np\n",
    "\n",
    "import ipyvolume as ipv"
   ]
  },
  {
   "cell_type": "code",
   "execution_count": 4,
   "id": "c22c2dc8-cfe6-48c3-bdd0-2384bfe57ee6",
   "metadata": {},
   "outputs": [],
   "source": [
    "# You need to configure neuropythy so that it knows what your\n",
    "# HCP AWS S3 access key and secret are:\n",
    "ny.config['hcp_credentials'] = ('<key>', '<secret>')\n",
    "ny.config['hcp_auto_download'] = True\n",
    "# Auto-download will work without these commands, but they let\n",
    "# neuropythy find the cached files next time you start it up\n",
    "# (without this, everything you download will be lost when\n",
    "# your python process quits).\n",
    "ny.config['hcp_auto_path'] = '~/hcp_data'\n",
    "\n",
    "# There are also instructions in the neuropythy README.md file\n",
    "# (see https://github.com/noahbenson/neuropythy/) on how to\n",
    "# set this up in the ~/.npythyrc configuration file. Additional\n",
    "# info is also in the neuropythy wiki under the configuration\n",
    "# heading."
   ]
  },
  {
   "cell_type": "code",
   "execution_count": 6,
   "id": "927ea4ae-1b73-499b-a658-56d3c029b6c7",
   "metadata": {},
   "outputs": [
    {
     "data": {
      "text/plain": [
       "Subject(<100206>, <'s3://hcp-openaccess/HCP_1200/100206'>)"
      ]
     },
     "execution_count": 6,
     "metadata": {},
     "output_type": "execute_result"
    }
   ],
   "source": [
    "# Get a sample HCP subject:\n",
    "sub = ny.hcp_subject(100206)\n",
    "# (This yields a neuropythy Subject object)\n",
    "sub"
   ]
  },
  {
   "cell_type": "code",
   "execution_count": 23,
   "id": "f0300af6-dbb2-418b-977f-a05fae0b5009",
   "metadata": {},
   "outputs": [],
   "source": [
    "# sub.lh and sub.rh are the \"native\" (FreeSurfer) hemispheres;\n",
    "# sub.hemis['lh_LR32k'] and sub.hemis['rh_LR32k'] are the\n",
    "# HCP subject-aligned fs_LR hemispheres (with 32k resolution).\n",
    "lh_hemi_native = sub.lh\n",
    "rh_hemi_native = sub.rh\n",
    "lh_hemi_LR32k = sub.hemis['lh_LR32k']\n",
    "rh_hemi_LR32k = sub.hemis['rh_LR32k']"
   ]
  },
  {
   "cell_type": "code",
   "execution_count": 24,
   "id": "7aa159cf-2091-4e59-9ef7-6e4d30764af8",
   "metadata": {},
   "outputs": [
    {
     "data": {
      "text/plain": [
       "['BA1_label',\n",
       " 'BA1_weight',\n",
       " 'BA2_label',\n",
       " 'BA2_weight',\n",
       " 'BA3a_label',\n",
       " 'BA3a_weight',\n",
       " 'BA3b_label',\n",
       " 'BA3b_weight',\n",
       " 'BA44_label',\n",
       " 'BA44_weight',\n",
       " 'BA45_label',\n",
       " 'BA45_weight',\n",
       " 'BA4a_label',\n",
       " 'BA4a_weight',\n",
       " 'BA4p_label',\n",
       " 'BA4p_weight',\n",
       " 'BA6_label',\n",
       " 'BA6_weight',\n",
       " 'DKT40_parcellation',\n",
       " 'Desikan06_parcellation',\n",
       " 'Deskian06_parcellation',\n",
       " 'Destrieaux09_parcellation',\n",
       " 'Destrieux09_parcellation',\n",
       " 'MT_label',\n",
       " 'MT_weight',\n",
       " 'V1_label',\n",
       " 'V1_weight',\n",
       " 'V2_label',\n",
       " 'V2_weight',\n",
       " 'areal_distortion',\n",
       " 'atlas_curvature',\n",
       " 'atlas_label',\n",
       " 'brodmann_area',\n",
       " 'brodmann_area_wide',\n",
       " 'convexity',\n",
       " 'cortex_label',\n",
       " 'curvature',\n",
       " 'entorhinal_label',\n",
       " 'entorhinal_weight',\n",
       " 'index',\n",
       " 'jacobian_norm',\n",
       " 'label',\n",
       " 'midgray_surface_area',\n",
       " 'parcellation',\n",
       " 'perirhinal_label',\n",
       " 'perirhinal_weight',\n",
       " 'pial_curvature',\n",
       " 'pial_surface_area',\n",
       " 'roi',\n",
       " 'surface_area',\n",
       " 'thickness',\n",
       " 'thickness_uncorrected',\n",
       " 'white_curvature',\n",
       " 'white_surface_area']"
      ]
     },
     "execution_count": 24,
     "metadata": {},
     "output_type": "execute_result"
    }
   ],
   "source": [
    "# Note that \"properties\" of the hemispheres are just data\n",
    "# vectors that neuropythy keeps track of (these are from\n",
    "# FreeSurfer or the HCP pipelines, generally).\n",
    "lh_prop_dict = lh_hemi_native.properties\n",
    "sorted(lh_prop_dict.keys())"
   ]
  },
  {
   "cell_type": "code",
   "execution_count": 12,
   "id": "33ec4b35-a6e5-490f-b42d-15db0ac4901e",
   "metadata": {},
   "outputs": [
    {
     "data": {
      "application/vnd.jupyter.widget-view+json": {
       "model_id": "acdb741c048c4e678ff112ab970690e6",
       "version_major": 2,
       "version_minor": 0
      },
      "text/plain": [
       "Figure(camera=PerspectiveCamera(fov=0.644570721372708, position=(0.0, -100.0, 0.0), projectionMatrix=(1.0, 0.0…"
      ]
     },
     "metadata": {},
     "output_type": "display_data"
    }
   ],
   "source": [
    "# We can plot properties with the ny.cortex_plot() function.\n",
    "# If you pass a color option, it can be a named property that\n",
    "# neuropythy knows about, or it can be a vector of property\n",
    "# values (one per vertex). (You can find the number of vertices\n",
    "# on a hemisphere with `hemi.vertex_count`.)\n",
    "# The model won't appear until you run it because you can't\n",
    "# embed 3D plots in notebooks the way you can 2D plots.\n",
    "ny.cortex_plot(sub.lh, surface='inflated', color='thickness',\n",
    "               # pyplot arguments like cmap, vmin, and vmax work:\n",
    "               cmap='hot', vmin=0, vmax=6)"
   ]
  },
  {
   "cell_type": "code",
   "execution_count": 25,
   "id": "43aa4faa-3b9e-442b-869b-626cc50372a8",
   "metadata": {},
   "outputs": [],
   "source": [
    "# Load the CIFTI file:\n",
    "cii_filename = '~/data/connectivityml/HCP_PTN1200/groupICA/groupICA_3T_HCP1200_MSMAll_d100.ica/melodic_IC.dscalar.nii'\n",
    "cii_obj = ny.load(cii_filename)"
   ]
  },
  {
   "cell_type": "code",
   "execution_count": 26,
   "id": "f20f9f64-7c31-4e46-b8fa-7b56ac9fd4a4",
   "metadata": {},
   "outputs": [
    {
     "data": {
      "text/plain": [
       "<nibabel.cifti2.cifti2.Cifti2Image at 0x7f97ca425970>"
      ]
     },
     "execution_count": 26,
     "metadata": {},
     "output_type": "execute_result"
    }
   ],
   "source": [
    "cii_obj"
   ]
  },
  {
   "cell_type": "code",
   "execution_count": 27,
   "id": "06d2ef66-79d5-4f07-a7c0-d45b6a5b0f3a",
   "metadata": {},
   "outputs": [],
   "source": [
    "# Split the CIFTI object into hemisphere/subvoxel data:\n",
    "(lh_data, rh_data, subvox_data) = ny.hcp.cifti_split(cii_obj)"
   ]
  },
  {
   "cell_type": "code",
   "execution_count": 17,
   "id": "b43da049-123f-4332-9879-5c7e65eaa6e1",
   "metadata": {},
   "outputs": [
    {
     "data": {
      "text/plain": [
       "(100, 32492)"
      ]
     },
     "execution_count": 17,
     "metadata": {},
     "output_type": "execute_result"
    }
   ],
   "source": [
    "# These data should be (data-points x vertices)\n",
    "lh_data.shape"
   ]
  },
  {
   "cell_type": "code",
   "execution_count": 21,
   "id": "00a765bd-f890-4f8b-9a3f-8da49dc21e58",
   "metadata": {},
   "outputs": [
    {
     "data": {
      "application/vnd.jupyter.widget-view+json": {
       "model_id": "d3f7650ad7a0435ab9f0a4cb3945a46e",
       "version_major": 2,
       "version_minor": 0
      },
      "text/plain": [
       "Figure(camera=PerspectiveCamera(fov=0.644570721372708, position=(0.0, -100.0, 0.0), projectionMatrix=(1.0, 0.0…"
      ]
     },
     "metadata": {},
     "output_type": "display_data"
    }
   ],
   "source": [
    "# The 32492 size indicates this is a 32k LR hemisphere:\n",
    "lh_hemi = sub.hemis['lh_LR32k']\n",
    "rh_hemi = sub.hemis['rh_LR32k']\n",
    "\n",
    "# We can make an ipyvolume figure to plot both hemispheres on:\n",
    "fig = ipv.figure()\n",
    "# Then plot each hemisphere using whichever ICA component we\n",
    "# want to visualize:\n",
    "ica_num = 0\n",
    "ny.cortex_plot(lh_hemi, surface='very_inflated',\n",
    "               color=lh_data[ica_num], cmap='hot', figure=fig)\n",
    "ny.cortex_plot(rh_hemi, surface='very_inflated',\n",
    "               color=rh_data[ica_num], cmap='hot', figure=fig)"
   ]
  }
 ],
 "metadata": {
  "kernelspec": {
   "display_name": "Python 3",
   "language": "python",
   "name": "python3"
  },
  "language_info": {
   "codemirror_mode": {
    "name": "ipython",
    "version": 3
   },
   "file_extension": ".py",
   "mimetype": "text/x-python",
   "name": "python",
   "nbconvert_exporter": "python",
   "pygments_lexer": "ipython3",
   "version": "3.8.10"
  }
 },
 "nbformat": 4,
 "nbformat_minor": 5
}
