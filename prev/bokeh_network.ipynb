{
 "cells": [
  {
   "cell_type": "code",
   "execution_count": null,
   "id": "c931bb0c-bef7-41d1-93cf-8c0b6f68f88f",
   "metadata": {},
   "outputs": [],
   "source": [
    "#DAgraph is a graph object created with networkx"
   ]
  },
  {
   "cell_type": "markdown",
   "id": "3c2fc621-2cd6-4497-886b-70437a4da92a",
   "metadata": {},
   "source": [
    "import networkx as nx\n",
    "\n",
    "from bokeh.io import output_file, show\n",
    "from bokeh.models import (BoxZoomTool, Circle, HoverTool,\n",
    "                          MultiLine, Plot, Range1d, ResetTool,)\n",
    "from bokeh.palettes import Spectral4\n",
    "from bokeh.models.graphs import from_networkx\n",
    "\n",
    "# Prepare Data\n",
    "G = DAgraph\n",
    "degrees = G.degree\n",
    "# Show with Bokeh\n",
    "plot = Plot(plot_width=400, plot_height=400,\n",
    "            x_range=Range1d(-1.1, 1.1), y_range=Range1d(-1.1, 1.1))\n",
    "plot.title.text = \"Big Net\"\n",
    "\n",
    "node_hover_tool = HoverTool(tooltips=[(\"index\", \"@index\")])\n",
    "plot.add_tools(node_hover_tool, BoxZoomTool(), ResetTool())\n",
    "\n",
    "graph_renderer = from_networkx(G, nx.spring_layout, scale=1, center=(0, 0))\n",
    "\n",
    "graph_renderer.node_renderer.glyph = Circle(size=20, fill_color=Spectral4[2])\n",
    "graph_renderer.edge_renderer.glyph = MultiLine(line_color=\"black\", line_alpha=0.8, line_width=1)\n",
    "plot.renderers.append(graph_renderer)\n",
    "\n",
    "output_file(\"interactive_graphs.html\")\n",
    "show(plot)"
   ]
  }
 ],
 "metadata": {
  "kernelspec": {
   "display_name": "Python 3",
   "language": "python",
   "name": "python3"
  },
  "language_info": {
   "codemirror_mode": {
    "name": "ipython",
    "version": 3
   },
   "file_extension": ".py",
   "mimetype": "text/x-python",
   "name": "python",
   "nbconvert_exporter": "python",
   "pygments_lexer": "ipython3",
   "version": "3.8.10"
  }
 },
 "nbformat": 4,
 "nbformat_minor": 5
}
